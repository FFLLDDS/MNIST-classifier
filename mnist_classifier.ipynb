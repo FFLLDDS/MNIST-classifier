{
 "cells": [
  {
   "cell_type": "markdown",
   "source": [
    "# MNIST classifier"
   ],
   "metadata": {}
  },
  {
   "cell_type": "code",
   "execution_count": null,
   "source": [
    "import torch\n",
    "import torchvision\n",
    "import torch.nn as nn\n",
    "import matplotlib.pyplot as plt"
   ],
   "outputs": [],
   "metadata": {}
  },
  {
   "cell_type": "code",
   "execution_count": null,
   "source": [
    "PATH = 'data'\n",
    "BATCHSIZE = 64\n",
    "LR = 1e-3\n",
    "NUM_EPOCHS = 5"
   ],
   "outputs": [],
   "metadata": {}
  },
  {
   "cell_type": "markdown",
   "source": [
    "## load data"
   ],
   "metadata": {}
  },
  {
   "cell_type": "code",
   "execution_count": null,
   "source": [
    "device = torch.device(\"cuda:0\" if torch.cuda.is_available() else \"cpu\")\n",
    "\n",
    "transform = torchvision.transforms.ToTensor()\n",
    "\n",
    "train_data = torchvision.datasets.MNIST(root=PATH, train=True, transform=transform, download=True)\n",
    "test_data = torchvision.datasets.MNIST(root=PATH, train=False, transform=transform, download=True)\n",
    "\n",
    "train_loader = torch.utils.data.DataLoader(train_data, batch_size=BATCHSIZE, shuffle=True)\n",
    "test_loader = torch.utils.data.DataLoader(test_data, batch_size=BATCHSIZE ,shuffle=True)"
   ],
   "outputs": [],
   "metadata": {}
  },
  {
   "cell_type": "markdown",
   "source": [
    "## Classifier"
   ],
   "metadata": {}
  },
  {
   "cell_type": "code",
   "execution_count": null,
   "source": [
    "class Classifier(nn.Module): \n",
    "    def __init__(self):\n",
    "        super().__init__()\n",
    "        \n",
    "        self.classify = nn.Sequential(\n",
    "                                        nn.Conv2d(in_channels=1, out_channels=4, kernel_size=3), \n",
    "                                        nn.BatchNorm2d(4), \n",
    "                                        nn.ReLU(), \n",
    "                                        # input_size: (BATCHSIZE, 4, 26, 26)\n",
    "                                        nn.Conv2d(in_channels=4, out_channels=16, kernel_size=4, stride=2), \n",
    "                                        nn.BatchNorm2d(16), \n",
    "                                        nn.ReLU(), \n",
    "                                        # input_size: (BATCHSIZE, 16, 12, 12)\n",
    "                                        nn.Conv2d(in_channels=16, out_channels=8, kernel_size=3), \n",
    "                                        nn.ReLU(), \n",
    "                                        # input_size: (BATCHSIZE, 8, 10, 10)\n",
    "                                        nn.Flatten(), \n",
    "                                        nn.Linear(8*10*10, 100), \n",
    "                                        nn.ReLU(), \n",
    "                                        nn.Linear(100, 10), \n",
    "        )\n",
    "        \n",
    "    def forward(self, input): \n",
    "        x = self.classify(input)\n",
    "        return x"
   ],
   "outputs": [],
   "metadata": {}
  },
  {
   "cell_type": "markdown",
   "source": [
    "## initialize classifier"
   ],
   "metadata": {}
  },
  {
   "cell_type": "code",
   "execution_count": null,
   "source": [
    "classifier = Classifier().to(device)\n",
    "\n",
    "criterion = nn.CrossEntropyLoss()\n",
    "optimizer = torch.optim.Adam(classifier.parameters(), lr=LR)"
   ],
   "outputs": [],
   "metadata": {}
  },
  {
   "cell_type": "markdown",
   "source": [
    "## training"
   ],
   "metadata": {}
  },
  {
   "cell_type": "code",
   "execution_count": null,
   "source": [
    "losses = []\n",
    "\n",
    "print('Start training classifier...')\n",
    "for epoch in range(NUM_EPOCHS): \n",
    "    \n",
    "    running_loss = 0.0\n",
    "    for i, batch in enumerate(train_loader): \n",
    "        imgs, labels = batch\n",
    "        imgs, labels = imgs.to(device), labels.to(device)\n",
    "        \n",
    "        optimizer.zero_grad()\n",
    "        \n",
    "        preds = classifier(imgs)\n",
    "        loss = criterion(preds, labels)\n",
    "        \n",
    "        loss.backward()\n",
    "        optimizer.step()\n",
    "        \n",
    "        # collect stats\n",
    "        losses.append(loss.item())\n",
    "        running_loss += loss.item()\n",
    "        \n",
    "        # print stats\n",
    "        if i % 200 == 199:\n",
    "            print(f'[{epoch+1}/{NUM_EPOCHS}] [{i+1}/{len(train_loader)}] Loss classifier: {running_loss / 200}')\n",
    "            running_loss = 0.0 "
   ],
   "outputs": [],
   "metadata": {}
  },
  {
   "cell_type": "markdown",
   "source": [
    "## plot losses"
   ],
   "metadata": {}
  },
  {
   "cell_type": "code",
   "execution_count": null,
   "source": [
    "plt.plot(losses)\n",
    "plt.title('training loss')\n",
    "plt.xlabel('batches')\n",
    "plt.ylabel('loss')\n",
    "plt.show()"
   ],
   "outputs": [],
   "metadata": {}
  },
  {
   "cell_type": "markdown",
   "source": [
    "## test classifier"
   ],
   "metadata": {}
  },
  {
   "cell_type": "code",
   "execution_count": null,
   "source": [
    "with torch.no_grad(): \n",
    "        \n",
    "    correct = 0.0\n",
    "    num_test_imgs = 0\n",
    "\n",
    "    for batch in test_loader: \n",
    "        imgs, labels = batch\n",
    "        \n",
    "        imgs, labels = imgs.to(device), labels.to(device)\n",
    "        \n",
    "        preds_raw = classifier(imgs)\n",
    "        preds = torch.argmax(preds_raw, dim=1)\n",
    "        \n",
    "        correct += (preds == labels).sum().item() \n",
    "        num_test_imgs += len(labels)\n",
    "        \n",
    "    print(f'The accuracy of the classifier is: {correct / num_test_imgs:.3f}')\n",
    "\n",
    "    \n",
    "    imgs, labels = next(iter(train_loader))\n",
    "    imgs, labels = imgs.to(device), labels.to(device)\n",
    "\n",
    "    out_raw = classifier(imgs)\n",
    "    out = torch.argmax(out_raw, dim=1)\n",
    "    \n",
    "    fig = plt.figure(figsize=(8, 8))\n",
    "    fig.suptitle('(label, prediction)')\n",
    "\n",
    "    for i in range(len(imgs)): \n",
    "        plt.subplot(8, 8, i+1)\n",
    "        plt.axis('off')\n",
    "        plt.imshow(imgs[i].squeeze().detach().cpu().numpy())\n",
    "        plt.title(f'{labels[i].item(), out[i].item()}')\n",
    "    \n",
    "    plt.tight_layout()\n",
    "    plt.show()"
   ],
   "outputs": [],
   "metadata": {}
  }
 ],
 "metadata": {
  "orig_nbformat": 4,
  "language_info": {
   "name": "python",
   "version": "3.9.6",
   "mimetype": "text/x-python",
   "codemirror_mode": {
    "name": "ipython",
    "version": 3
   },
   "pygments_lexer": "ipython3",
   "nbconvert_exporter": "python",
   "file_extension": ".py"
  },
  "kernelspec": {
   "name": "python3",
   "display_name": "Python 3.9.6 64-bit ('island': conda)"
  },
  "interpreter": {
   "hash": "5caaa1bc9b15b6b32c3354080b8d80e1a2af5d12081a1c55dce2cf9505551bea"
  }
 },
 "nbformat": 4,
 "nbformat_minor": 2
}